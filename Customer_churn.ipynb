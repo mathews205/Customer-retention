{
 "cells": [
  {
   "cell_type": "markdown",
   "id": "f46f9416",
   "metadata": {},
   "source": [
    "### Import necessary libraries and load the dataset"
   ]
  },
  {
   "cell_type": "code",
   "execution_count": 1,
   "id": "18de7549",
   "metadata": {},
   "outputs": [],
   "source": [
    "import pandas as pd\n",
    "import numpy as np\n",
    "import matplotlib.pyplot as plt\n",
    "import seaborn as sns\n",
    "\n",
    "df = pd.read_csv('E_Commerce.csv')"
   ]
  },
  {
   "cell_type": "code",
   "execution_count": 2,
   "id": "da1f8005",
   "metadata": {},
   "outputs": [
    {
     "data": {
      "text/html": [
       "<div>\n",
       "<style scoped>\n",
       "    .dataframe tbody tr th:only-of-type {\n",
       "        vertical-align: middle;\n",
       "    }\n",
       "\n",
       "    .dataframe tbody tr th {\n",
       "        vertical-align: top;\n",
       "    }\n",
       "\n",
       "    .dataframe thead th {\n",
       "        text-align: right;\n",
       "    }\n",
       "</style>\n",
       "<table border=\"1\" class=\"dataframe\">\n",
       "  <thead>\n",
       "    <tr style=\"text-align: right;\">\n",
       "      <th></th>\n",
       "      <th>OrderID</th>\n",
       "      <th>CustomerID</th>\n",
       "      <th>Date of order</th>\n",
       "      <th>Date of Signup</th>\n",
       "      <th>Churn</th>\n",
       "      <th>PreferredLoginDevice</th>\n",
       "      <th>Purchased Product</th>\n",
       "      <th>Product Price</th>\n",
       "      <th>Cost Price</th>\n",
       "      <th>Profit</th>\n",
       "      <th>...</th>\n",
       "      <th>NumberOfDeviceRegistered</th>\n",
       "      <th>PreferedOrderCat</th>\n",
       "      <th>SatisfactionScore</th>\n",
       "      <th>MaritalStatus</th>\n",
       "      <th>NumberOfAddress</th>\n",
       "      <th>Complain</th>\n",
       "      <th>OrderAmountHikeFromlastYear</th>\n",
       "      <th>CouponUsed</th>\n",
       "      <th>OrderCount</th>\n",
       "      <th>CashbackAmount</th>\n",
       "    </tr>\n",
       "  </thead>\n",
       "  <tbody>\n",
       "    <tr>\n",
       "      <th>0</th>\n",
       "      <td>IN-2020-152156</td>\n",
       "      <td>CG-12520</td>\n",
       "      <td>09-11-2020</td>\n",
       "      <td>08-11-2020</td>\n",
       "      <td>1</td>\n",
       "      <td>Mobile Phone</td>\n",
       "      <td>i-Phone 13</td>\n",
       "      <td>65999</td>\n",
       "      <td>56099.15</td>\n",
       "      <td>1319.98</td>\n",
       "      <td>...</td>\n",
       "      <td>3</td>\n",
       "      <td>Laptop &amp; Accessory</td>\n",
       "      <td>2</td>\n",
       "      <td>Single</td>\n",
       "      <td>9</td>\n",
       "      <td>1</td>\n",
       "      <td>11.0</td>\n",
       "      <td>1.0</td>\n",
       "      <td>1.0</td>\n",
       "      <td>160</td>\n",
       "    </tr>\n",
       "    <tr>\n",
       "      <th>1</th>\n",
       "      <td>IN-2020-152156</td>\n",
       "      <td>CG-12520</td>\n",
       "      <td>09-11-2020</td>\n",
       "      <td>08-11-2020</td>\n",
       "      <td>1</td>\n",
       "      <td>Phone</td>\n",
       "      <td>i-Phone 14 Pro Max</td>\n",
       "      <td>129999</td>\n",
       "      <td>110499.15</td>\n",
       "      <td>2599.98</td>\n",
       "      <td>...</td>\n",
       "      <td>4</td>\n",
       "      <td>Mobile</td>\n",
       "      <td>3</td>\n",
       "      <td>Single</td>\n",
       "      <td>7</td>\n",
       "      <td>1</td>\n",
       "      <td>15.0</td>\n",
       "      <td>0.0</td>\n",
       "      <td>1.0</td>\n",
       "      <td>121</td>\n",
       "    </tr>\n",
       "    <tr>\n",
       "      <th>2</th>\n",
       "      <td>IN-2020-138688</td>\n",
       "      <td>DV-13045</td>\n",
       "      <td>13-06-2020</td>\n",
       "      <td>12-06-2020</td>\n",
       "      <td>1</td>\n",
       "      <td>Phone</td>\n",
       "      <td>i-Phone 14 Pro Max</td>\n",
       "      <td>129999</td>\n",
       "      <td>110499.15</td>\n",
       "      <td>2599.98</td>\n",
       "      <td>...</td>\n",
       "      <td>4</td>\n",
       "      <td>Mobile</td>\n",
       "      <td>3</td>\n",
       "      <td>Single</td>\n",
       "      <td>6</td>\n",
       "      <td>1</td>\n",
       "      <td>14.0</td>\n",
       "      <td>0.0</td>\n",
       "      <td>1.0</td>\n",
       "      <td>120</td>\n",
       "    </tr>\n",
       "    <tr>\n",
       "      <th>3</th>\n",
       "      <td>IN-2019-108966</td>\n",
       "      <td>SO-20335</td>\n",
       "      <td>11-10-2019</td>\n",
       "      <td>11-10-2019</td>\n",
       "      <td>1</td>\n",
       "      <td>Phone</td>\n",
       "      <td>i-Phone 14 Pro Max</td>\n",
       "      <td>129999</td>\n",
       "      <td>110499.15</td>\n",
       "      <td>2599.98</td>\n",
       "      <td>...</td>\n",
       "      <td>4</td>\n",
       "      <td>Laptop &amp; Accessory</td>\n",
       "      <td>5</td>\n",
       "      <td>Single</td>\n",
       "      <td>8</td>\n",
       "      <td>0</td>\n",
       "      <td>23.0</td>\n",
       "      <td>0.0</td>\n",
       "      <td>1.0</td>\n",
       "      <td>134</td>\n",
       "    </tr>\n",
       "    <tr>\n",
       "      <th>4</th>\n",
       "      <td>IN-2019-108966</td>\n",
       "      <td>SO-20335</td>\n",
       "      <td>11-10-2019</td>\n",
       "      <td>11-10-2019</td>\n",
       "      <td>1</td>\n",
       "      <td>Phone</td>\n",
       "      <td>i-Phone 14 Pro Max</td>\n",
       "      <td>129999</td>\n",
       "      <td>110499.15</td>\n",
       "      <td>2599.98</td>\n",
       "      <td>...</td>\n",
       "      <td>3</td>\n",
       "      <td>Mobile</td>\n",
       "      <td>5</td>\n",
       "      <td>Single</td>\n",
       "      <td>3</td>\n",
       "      <td>0</td>\n",
       "      <td>11.0</td>\n",
       "      <td>1.0</td>\n",
       "      <td>1.0</td>\n",
       "      <td>130</td>\n",
       "    </tr>\n",
       "  </tbody>\n",
       "</table>\n",
       "<p>5 rows × 25 columns</p>\n",
       "</div>"
      ],
      "text/plain": [
       "          OrderID CustomerID Date of order Date of Signup  Churn  \\\n",
       "0  IN-2020-152156   CG-12520    09-11-2020     08-11-2020      1   \n",
       "1  IN-2020-152156   CG-12520    09-11-2020     08-11-2020      1   \n",
       "2  IN-2020-138688   DV-13045    13-06-2020     12-06-2020      1   \n",
       "3  IN-2019-108966   SO-20335    11-10-2019     11-10-2019      1   \n",
       "4  IN-2019-108966   SO-20335    11-10-2019     11-10-2019      1   \n",
       "\n",
       "  PreferredLoginDevice   Purchased Product  Product Price  Cost Price  \\\n",
       "0         Mobile Phone          i-Phone 13          65999    56099.15   \n",
       "1                Phone  i-Phone 14 Pro Max         129999   110499.15   \n",
       "2                Phone  i-Phone 14 Pro Max         129999   110499.15   \n",
       "3                Phone  i-Phone 14 Pro Max         129999   110499.15   \n",
       "4                Phone  i-Phone 14 Pro Max         129999   110499.15   \n",
       "\n",
       "    Profit  ...  NumberOfDeviceRegistered    PreferedOrderCat  \\\n",
       "0  1319.98  ...                         3  Laptop & Accessory   \n",
       "1  2599.98  ...                         4              Mobile   \n",
       "2  2599.98  ...                         4              Mobile   \n",
       "3  2599.98  ...                         4  Laptop & Accessory   \n",
       "4  2599.98  ...                         3              Mobile   \n",
       "\n",
       "  SatisfactionScore MaritalStatus  NumberOfAddress  Complain  \\\n",
       "0                 2        Single                9         1   \n",
       "1                 3        Single                7         1   \n",
       "2                 3        Single                6         1   \n",
       "3                 5        Single                8         0   \n",
       "4                 5        Single                3         0   \n",
       "\n",
       "  OrderAmountHikeFromlastYear  CouponUsed OrderCount  CashbackAmount  \n",
       "0                        11.0         1.0        1.0             160  \n",
       "1                        15.0         0.0        1.0             121  \n",
       "2                        14.0         0.0        1.0             120  \n",
       "3                        23.0         0.0        1.0             134  \n",
       "4                        11.0         1.0        1.0             130  \n",
       "\n",
       "[5 rows x 25 columns]"
      ]
     },
     "execution_count": 2,
     "metadata": {},
     "output_type": "execute_result"
    }
   ],
   "source": [
    "df.head()"
   ]
  },
  {
   "cell_type": "markdown",
   "id": "26639a85",
   "metadata": {},
   "source": [
    "### Explore the data"
   ]
  },
  {
   "cell_type": "code",
   "execution_count": 3,
   "id": "91f80b3d",
   "metadata": {},
   "outputs": [
    {
     "name": "stdout",
     "output_type": "stream",
     "text": [
      "<class 'pandas.core.frame.DataFrame'>\n",
      "RangeIndex: 5630 entries, 0 to 5629\n",
      "Data columns (total 25 columns):\n",
      " #   Column                       Non-Null Count  Dtype  \n",
      "---  ------                       --------------  -----  \n",
      " 0   OrderID                      5630 non-null   object \n",
      " 1   CustomerID                   5630 non-null   object \n",
      " 2   Date of order                5630 non-null   object \n",
      " 3   Date of Signup               5630 non-null   object \n",
      " 4   Churn                        5630 non-null   int64  \n",
      " 5   PreferredLoginDevice         5630 non-null   object \n",
      " 6   Purchased Product            5630 non-null   object \n",
      " 7   Product Price                5630 non-null   int64  \n",
      " 8   Cost Price                   5630 non-null   float64\n",
      " 9   Profit                       5630 non-null   float64\n",
      " 10  CityTier                     5630 non-null   int64  \n",
      " 11  WarehouseToHome              5379 non-null   float64\n",
      " 12  PreferredPaymentMode         5630 non-null   object \n",
      " 13  Gender                       5630 non-null   object \n",
      " 14  HourSpendOnApp               5375 non-null   float64\n",
      " 15  NumberOfDeviceRegistered     5630 non-null   int64  \n",
      " 16  PreferedOrderCat             5630 non-null   object \n",
      " 17  SatisfactionScore            5630 non-null   int64  \n",
      " 18  MaritalStatus                5630 non-null   object \n",
      " 19  NumberOfAddress              5630 non-null   int64  \n",
      " 20  Complain                     5630 non-null   int64  \n",
      " 21  OrderAmountHikeFromlastYear  5365 non-null   float64\n",
      " 22  CouponUsed                   5374 non-null   float64\n",
      " 23  OrderCount                   5372 non-null   float64\n",
      " 24  CashbackAmount               5630 non-null   int64  \n",
      "dtypes: float64(7), int64(8), object(10)\n",
      "memory usage: 1.1+ MB\n"
     ]
    }
   ],
   "source": [
    "df.info()"
   ]
  },
  {
   "cell_type": "code",
   "execution_count": 4,
   "id": "8ff42277",
   "metadata": {},
   "outputs": [
    {
     "data": {
      "text/html": [
       "<div>\n",
       "<style scoped>\n",
       "    .dataframe tbody tr th:only-of-type {\n",
       "        vertical-align: middle;\n",
       "    }\n",
       "\n",
       "    .dataframe tbody tr th {\n",
       "        vertical-align: top;\n",
       "    }\n",
       "\n",
       "    .dataframe thead th {\n",
       "        text-align: right;\n",
       "    }\n",
       "</style>\n",
       "<table border=\"1\" class=\"dataframe\">\n",
       "  <thead>\n",
       "    <tr style=\"text-align: right;\">\n",
       "      <th></th>\n",
       "      <th>Churn</th>\n",
       "      <th>Product Price</th>\n",
       "      <th>Cost Price</th>\n",
       "      <th>Profit</th>\n",
       "      <th>CityTier</th>\n",
       "      <th>WarehouseToHome</th>\n",
       "      <th>HourSpendOnApp</th>\n",
       "      <th>NumberOfDeviceRegistered</th>\n",
       "      <th>SatisfactionScore</th>\n",
       "      <th>NumberOfAddress</th>\n",
       "      <th>Complain</th>\n",
       "      <th>OrderAmountHikeFromlastYear</th>\n",
       "      <th>CouponUsed</th>\n",
       "      <th>OrderCount</th>\n",
       "      <th>CashbackAmount</th>\n",
       "    </tr>\n",
       "  </thead>\n",
       "  <tbody>\n",
       "    <tr>\n",
       "      <th>count</th>\n",
       "      <td>5630.000000</td>\n",
       "      <td>5630.000000</td>\n",
       "      <td>5630.000000</td>\n",
       "      <td>5630.000000</td>\n",
       "      <td>5630.000000</td>\n",
       "      <td>5379.000000</td>\n",
       "      <td>5375.000000</td>\n",
       "      <td>5630.000000</td>\n",
       "      <td>5630.000000</td>\n",
       "      <td>5630.000000</td>\n",
       "      <td>5630.000000</td>\n",
       "      <td>5365.000000</td>\n",
       "      <td>5374.000000</td>\n",
       "      <td>5372.000000</td>\n",
       "      <td>5630.000000</td>\n",
       "    </tr>\n",
       "    <tr>\n",
       "      <th>mean</th>\n",
       "      <td>0.168384</td>\n",
       "      <td>59364.833037</td>\n",
       "      <td>50077.244076</td>\n",
       "      <td>5562.764018</td>\n",
       "      <td>1.654707</td>\n",
       "      <td>15.639896</td>\n",
       "      <td>2.931535</td>\n",
       "      <td>3.688988</td>\n",
       "      <td>3.066785</td>\n",
       "      <td>4.214032</td>\n",
       "      <td>0.284902</td>\n",
       "      <td>15.707922</td>\n",
       "      <td>1.751023</td>\n",
       "      <td>3.008004</td>\n",
       "      <td>177.221492</td>\n",
       "    </tr>\n",
       "    <tr>\n",
       "      <th>std</th>\n",
       "      <td>0.374240</td>\n",
       "      <td>35660.648511</td>\n",
       "      <td>30404.510368</td>\n",
       "      <td>3771.860758</td>\n",
       "      <td>0.915389</td>\n",
       "      <td>8.531475</td>\n",
       "      <td>0.721926</td>\n",
       "      <td>1.023999</td>\n",
       "      <td>1.380194</td>\n",
       "      <td>2.583586</td>\n",
       "      <td>0.451408</td>\n",
       "      <td>3.675485</td>\n",
       "      <td>1.894621</td>\n",
       "      <td>2.939680</td>\n",
       "      <td>49.193869</td>\n",
       "    </tr>\n",
       "    <tr>\n",
       "      <th>min</th>\n",
       "      <td>0.000000</td>\n",
       "      <td>9999.000000</td>\n",
       "      <td>8499.150000</td>\n",
       "      <td>999.900000</td>\n",
       "      <td>1.000000</td>\n",
       "      <td>5.000000</td>\n",
       "      <td>0.000000</td>\n",
       "      <td>1.000000</td>\n",
       "      <td>1.000000</td>\n",
       "      <td>1.000000</td>\n",
       "      <td>0.000000</td>\n",
       "      <td>11.000000</td>\n",
       "      <td>0.000000</td>\n",
       "      <td>1.000000</td>\n",
       "      <td>0.000000</td>\n",
       "    </tr>\n",
       "    <tr>\n",
       "      <th>25%</th>\n",
       "      <td>0.000000</td>\n",
       "      <td>25999.000000</td>\n",
       "      <td>22099.150000</td>\n",
       "      <td>1799.900000</td>\n",
       "      <td>1.000000</td>\n",
       "      <td>9.000000</td>\n",
       "      <td>2.000000</td>\n",
       "      <td>3.000000</td>\n",
       "      <td>2.000000</td>\n",
       "      <td>2.000000</td>\n",
       "      <td>0.000000</td>\n",
       "      <td>13.000000</td>\n",
       "      <td>1.000000</td>\n",
       "      <td>1.000000</td>\n",
       "      <td>146.000000</td>\n",
       "    </tr>\n",
       "    <tr>\n",
       "      <th>50%</th>\n",
       "      <td>0.000000</td>\n",
       "      <td>51999.000000</td>\n",
       "      <td>41599.000000</td>\n",
       "      <td>4599.900000</td>\n",
       "      <td>1.000000</td>\n",
       "      <td>14.000000</td>\n",
       "      <td>3.000000</td>\n",
       "      <td>4.000000</td>\n",
       "      <td>3.000000</td>\n",
       "      <td>3.000000</td>\n",
       "      <td>0.000000</td>\n",
       "      <td>15.000000</td>\n",
       "      <td>1.000000</td>\n",
       "      <td>2.000000</td>\n",
       "      <td>163.000000</td>\n",
       "    </tr>\n",
       "    <tr>\n",
       "      <th>75%</th>\n",
       "      <td>0.000000</td>\n",
       "      <td>72999.000000</td>\n",
       "      <td>62049.150000</td>\n",
       "      <td>8999.900000</td>\n",
       "      <td>3.000000</td>\n",
       "      <td>20.000000</td>\n",
       "      <td>3.000000</td>\n",
       "      <td>4.000000</td>\n",
       "      <td>4.000000</td>\n",
       "      <td>6.000000</td>\n",
       "      <td>1.000000</td>\n",
       "      <td>18.000000</td>\n",
       "      <td>2.000000</td>\n",
       "      <td>3.000000</td>\n",
       "      <td>196.000000</td>\n",
       "    </tr>\n",
       "    <tr>\n",
       "      <th>max</th>\n",
       "      <td>1.000000</td>\n",
       "      <td>169999.000000</td>\n",
       "      <td>144499.150000</td>\n",
       "      <td>12999.900000</td>\n",
       "      <td>3.000000</td>\n",
       "      <td>127.000000</td>\n",
       "      <td>5.000000</td>\n",
       "      <td>6.000000</td>\n",
       "      <td>5.000000</td>\n",
       "      <td>22.000000</td>\n",
       "      <td>1.000000</td>\n",
       "      <td>26.000000</td>\n",
       "      <td>16.000000</td>\n",
       "      <td>16.000000</td>\n",
       "      <td>325.000000</td>\n",
       "    </tr>\n",
       "  </tbody>\n",
       "</table>\n",
       "</div>"
      ],
      "text/plain": [
       "             Churn  Product Price     Cost Price        Profit     CityTier  \\\n",
       "count  5630.000000    5630.000000    5630.000000   5630.000000  5630.000000   \n",
       "mean      0.168384   59364.833037   50077.244076   5562.764018     1.654707   \n",
       "std       0.374240   35660.648511   30404.510368   3771.860758     0.915389   \n",
       "min       0.000000    9999.000000    8499.150000    999.900000     1.000000   \n",
       "25%       0.000000   25999.000000   22099.150000   1799.900000     1.000000   \n",
       "50%       0.000000   51999.000000   41599.000000   4599.900000     1.000000   \n",
       "75%       0.000000   72999.000000   62049.150000   8999.900000     3.000000   \n",
       "max       1.000000  169999.000000  144499.150000  12999.900000     3.000000   \n",
       "\n",
       "       WarehouseToHome  HourSpendOnApp  NumberOfDeviceRegistered  \\\n",
       "count      5379.000000     5375.000000               5630.000000   \n",
       "mean         15.639896        2.931535                  3.688988   \n",
       "std           8.531475        0.721926                  1.023999   \n",
       "min           5.000000        0.000000                  1.000000   \n",
       "25%           9.000000        2.000000                  3.000000   \n",
       "50%          14.000000        3.000000                  4.000000   \n",
       "75%          20.000000        3.000000                  4.000000   \n",
       "max         127.000000        5.000000                  6.000000   \n",
       "\n",
       "       SatisfactionScore  NumberOfAddress     Complain  \\\n",
       "count        5630.000000      5630.000000  5630.000000   \n",
       "mean            3.066785         4.214032     0.284902   \n",
       "std             1.380194         2.583586     0.451408   \n",
       "min             1.000000         1.000000     0.000000   \n",
       "25%             2.000000         2.000000     0.000000   \n",
       "50%             3.000000         3.000000     0.000000   \n",
       "75%             4.000000         6.000000     1.000000   \n",
       "max             5.000000        22.000000     1.000000   \n",
       "\n",
       "       OrderAmountHikeFromlastYear   CouponUsed   OrderCount  CashbackAmount  \n",
       "count                  5365.000000  5374.000000  5372.000000     5630.000000  \n",
       "mean                     15.707922     1.751023     3.008004      177.221492  \n",
       "std                       3.675485     1.894621     2.939680       49.193869  \n",
       "min                      11.000000     0.000000     1.000000        0.000000  \n",
       "25%                      13.000000     1.000000     1.000000      146.000000  \n",
       "50%                      15.000000     1.000000     2.000000      163.000000  \n",
       "75%                      18.000000     2.000000     3.000000      196.000000  \n",
       "max                      26.000000    16.000000    16.000000      325.000000  "
      ]
     },
     "execution_count": 4,
     "metadata": {},
     "output_type": "execute_result"
    }
   ],
   "source": [
    "df.describe()"
   ]
  },
  {
   "cell_type": "markdown",
   "id": "5601454b",
   "metadata": {},
   "source": [
    "### Check for missing values"
   ]
  },
  {
   "cell_type": "code",
   "execution_count": 5,
   "id": "d8f79732",
   "metadata": {},
   "outputs": [
    {
     "data": {
      "text/plain": [
       "OrderID                          0\n",
       "CustomerID                       0\n",
       "Date of order                    0\n",
       "Date of Signup                   0\n",
       "Churn                            0\n",
       "PreferredLoginDevice             0\n",
       "Purchased Product                0\n",
       "Product Price                    0\n",
       "Cost Price                       0\n",
       "Profit                           0\n",
       "CityTier                         0\n",
       "WarehouseToHome                251\n",
       "PreferredPaymentMode             0\n",
       "Gender                           0\n",
       "HourSpendOnApp                 255\n",
       "NumberOfDeviceRegistered         0\n",
       "PreferedOrderCat                 0\n",
       "SatisfactionScore                0\n",
       "MaritalStatus                    0\n",
       "NumberOfAddress                  0\n",
       "Complain                         0\n",
       "OrderAmountHikeFromlastYear    265\n",
       "CouponUsed                     256\n",
       "OrderCount                     258\n",
       "CashbackAmount                   0\n",
       "dtype: int64"
      ]
     },
     "execution_count": 5,
     "metadata": {},
     "output_type": "execute_result"
    }
   ],
   "source": [
    "df.isnull().sum()"
   ]
  },
  {
   "cell_type": "markdown",
   "id": "cac12256",
   "metadata": {},
   "source": [
    "### Filling the missing values with modal"
   ]
  },
  {
   "cell_type": "code",
   "execution_count": 6,
   "id": "ac786823",
   "metadata": {},
   "outputs": [
    {
     "name": "stdout",
     "output_type": "stream",
     "text": [
      "             OrderID CustomerID Date of order Date of Signup  Churn  \\\n",
      "0     IN-2020-152156   CG-12520    09-11-2020     08-11-2020      1   \n",
      "1     IN-2020-152156   CG-12520    09-11-2020     08-11-2020      1   \n",
      "2     IN-2020-138688   DV-13045    13-06-2020     12-06-2020      1   \n",
      "3     IN-2019-108966   SO-20335    11-10-2019     11-10-2019      1   \n",
      "4     IN-2019-108966   SO-20335    11-10-2019     11-10-2019      1   \n",
      "...              ...        ...           ...            ...    ...   \n",
      "5625  IN-2018-126683   PP-18955    29-09-2018     29-09-2018      0   \n",
      "5626  IN-2018-126683   PP-18955    29-09-2018     29-09-2018      0   \n",
      "5627  IN-2021-148810   DR-12880    27-06-2021     26-06-2021      0   \n",
      "5628  IN-2021-148810   DR-12880    27-06-2021     26-06-2021      0   \n",
      "5629  IN-2020-146066   RB-19465    22-08-2020     21-08-2020      0   \n",
      "\n",
      "     PreferredLoginDevice   Purchased Product  Product Price  Cost Price  \\\n",
      "0            Mobile Phone          i-Phone 13          65999    56099.15   \n",
      "1                   Phone  i-Phone 14 Pro Max         129999   110499.15   \n",
      "2                   Phone  i-Phone 14 Pro Max         129999   110499.15   \n",
      "3                   Phone  i-Phone 14 Pro Max         129999   110499.15   \n",
      "4                   Phone  i-Phone 14 Pro Max         129999   110499.15   \n",
      "...                   ...                 ...            ...         ...   \n",
      "5625             Computer         Vaio Laptop          79999    67999.15   \n",
      "5626         Mobile Phone          Asus Rog 3          34599    29409.15   \n",
      "5627         Mobile Phone          Asus Rog 3          34599    29409.15   \n",
      "5628             Computer         Vaio Laptop          79999    67999.15   \n",
      "5629         Mobile Phone          Asus Rog 3          34599    29409.15   \n",
      "\n",
      "       Profit  ...  NumberOfDeviceRegistered    PreferedOrderCat  \\\n",
      "0     1319.98  ...                         3  Laptop & Accessory   \n",
      "1     2599.98  ...                         4              Mobile   \n",
      "2     2599.98  ...                         4              Mobile   \n",
      "3     2599.98  ...                         4  Laptop & Accessory   \n",
      "4     2599.98  ...                         3              Mobile   \n",
      "...       ...  ...                       ...                 ...   \n",
      "5625  7999.90  ...                         2  Laptop & Accessory   \n",
      "5626  3459.90  ...                         5             Fashion   \n",
      "5627  3459.90  ...                         2  Laptop & Accessory   \n",
      "5628  7999.90  ...                         5  Laptop & Accessory   \n",
      "5629  3459.90  ...                         2  Laptop & Accessory   \n",
      "\n",
      "     SatisfactionScore MaritalStatus  NumberOfAddress  Complain  \\\n",
      "0                    2        Single                9         1   \n",
      "1                    3        Single                7         1   \n",
      "2                    3        Single                6         1   \n",
      "3                    5        Single                8         0   \n",
      "4                    5        Single                3         0   \n",
      "...                ...           ...              ...       ...   \n",
      "5625                 1       Married                6         0   \n",
      "5626                 5       Married                6         0   \n",
      "5627                 4       Married                3         1   \n",
      "5628                 4       Married                4         0   \n",
      "5629                 3       Married                4         0   \n",
      "\n",
      "     OrderAmountHikeFromlastYear  CouponUsed OrderCount  CashbackAmount  \n",
      "0                           11.0         1.0        1.0             160  \n",
      "1                           15.0         0.0        1.0             121  \n",
      "2                           14.0         0.0        1.0             120  \n",
      "3                           23.0         0.0        1.0             134  \n",
      "4                           11.0         1.0        1.0             130  \n",
      "...                          ...         ...        ...             ...  \n",
      "5625                        18.0         1.0        2.0             151  \n",
      "5626                        16.0         1.0        2.0             225  \n",
      "5627                        21.0         1.0        2.0             186  \n",
      "5628                        15.0         2.0        2.0             179  \n",
      "5629                        13.0         2.0        2.0             169  \n",
      "\n",
      "[5630 rows x 25 columns]\n"
     ]
    }
   ],
   "source": [
    "for i in df.columns:\n",
    "    df[i].fillna(df[i].mode()[0], inplace=True)\n",
    "print(df)"
   ]
  },
  {
   "cell_type": "code",
   "execution_count": 7,
   "id": "398aa7f8",
   "metadata": {},
   "outputs": [
    {
     "data": {
      "text/html": [
       "<div>\n",
       "<style scoped>\n",
       "    .dataframe tbody tr th:only-of-type {\n",
       "        vertical-align: middle;\n",
       "    }\n",
       "\n",
       "    .dataframe tbody tr th {\n",
       "        vertical-align: top;\n",
       "    }\n",
       "\n",
       "    .dataframe thead th {\n",
       "        text-align: right;\n",
       "    }\n",
       "</style>\n",
       "<table border=\"1\" class=\"dataframe\">\n",
       "  <thead>\n",
       "    <tr style=\"text-align: right;\">\n",
       "      <th></th>\n",
       "      <th>OrderID</th>\n",
       "      <th>CustomerID</th>\n",
       "      <th>Date of order</th>\n",
       "      <th>Date of Signup</th>\n",
       "      <th>Churn</th>\n",
       "      <th>PreferredLoginDevice</th>\n",
       "      <th>Purchased Product</th>\n",
       "      <th>Product Price</th>\n",
       "      <th>Cost Price</th>\n",
       "      <th>Profit</th>\n",
       "      <th>...</th>\n",
       "      <th>NumberOfDeviceRegistered</th>\n",
       "      <th>PreferedOrderCat</th>\n",
       "      <th>SatisfactionScore</th>\n",
       "      <th>MaritalStatus</th>\n",
       "      <th>NumberOfAddress</th>\n",
       "      <th>Complain</th>\n",
       "      <th>OrderAmountHikeFromlastYear</th>\n",
       "      <th>CouponUsed</th>\n",
       "      <th>OrderCount</th>\n",
       "      <th>CashbackAmount</th>\n",
       "    </tr>\n",
       "  </thead>\n",
       "  <tbody>\n",
       "    <tr>\n",
       "      <th>0</th>\n",
       "      <td>IN-2020-152156</td>\n",
       "      <td>CG-12520</td>\n",
       "      <td>09-11-2020</td>\n",
       "      <td>08-11-2020</td>\n",
       "      <td>1</td>\n",
       "      <td>Mobile Phone</td>\n",
       "      <td>i-Phone 13</td>\n",
       "      <td>65999</td>\n",
       "      <td>56099.15</td>\n",
       "      <td>1319.98</td>\n",
       "      <td>...</td>\n",
       "      <td>3</td>\n",
       "      <td>Laptop &amp; Accessory</td>\n",
       "      <td>2</td>\n",
       "      <td>Single</td>\n",
       "      <td>9</td>\n",
       "      <td>1</td>\n",
       "      <td>11.0</td>\n",
       "      <td>1.0</td>\n",
       "      <td>1.0</td>\n",
       "      <td>160</td>\n",
       "    </tr>\n",
       "    <tr>\n",
       "      <th>1</th>\n",
       "      <td>IN-2020-152156</td>\n",
       "      <td>CG-12520</td>\n",
       "      <td>09-11-2020</td>\n",
       "      <td>08-11-2020</td>\n",
       "      <td>1</td>\n",
       "      <td>Phone</td>\n",
       "      <td>i-Phone 14 Pro Max</td>\n",
       "      <td>129999</td>\n",
       "      <td>110499.15</td>\n",
       "      <td>2599.98</td>\n",
       "      <td>...</td>\n",
       "      <td>4</td>\n",
       "      <td>Mobile</td>\n",
       "      <td>3</td>\n",
       "      <td>Single</td>\n",
       "      <td>7</td>\n",
       "      <td>1</td>\n",
       "      <td>15.0</td>\n",
       "      <td>0.0</td>\n",
       "      <td>1.0</td>\n",
       "      <td>121</td>\n",
       "    </tr>\n",
       "    <tr>\n",
       "      <th>2</th>\n",
       "      <td>IN-2020-138688</td>\n",
       "      <td>DV-13045</td>\n",
       "      <td>13-06-2020</td>\n",
       "      <td>12-06-2020</td>\n",
       "      <td>1</td>\n",
       "      <td>Phone</td>\n",
       "      <td>i-Phone 14 Pro Max</td>\n",
       "      <td>129999</td>\n",
       "      <td>110499.15</td>\n",
       "      <td>2599.98</td>\n",
       "      <td>...</td>\n",
       "      <td>4</td>\n",
       "      <td>Mobile</td>\n",
       "      <td>3</td>\n",
       "      <td>Single</td>\n",
       "      <td>6</td>\n",
       "      <td>1</td>\n",
       "      <td>14.0</td>\n",
       "      <td>0.0</td>\n",
       "      <td>1.0</td>\n",
       "      <td>120</td>\n",
       "    </tr>\n",
       "    <tr>\n",
       "      <th>3</th>\n",
       "      <td>IN-2019-108966</td>\n",
       "      <td>SO-20335</td>\n",
       "      <td>11-10-2019</td>\n",
       "      <td>11-10-2019</td>\n",
       "      <td>1</td>\n",
       "      <td>Phone</td>\n",
       "      <td>i-Phone 14 Pro Max</td>\n",
       "      <td>129999</td>\n",
       "      <td>110499.15</td>\n",
       "      <td>2599.98</td>\n",
       "      <td>...</td>\n",
       "      <td>4</td>\n",
       "      <td>Laptop &amp; Accessory</td>\n",
       "      <td>5</td>\n",
       "      <td>Single</td>\n",
       "      <td>8</td>\n",
       "      <td>0</td>\n",
       "      <td>23.0</td>\n",
       "      <td>0.0</td>\n",
       "      <td>1.0</td>\n",
       "      <td>134</td>\n",
       "    </tr>\n",
       "    <tr>\n",
       "      <th>4</th>\n",
       "      <td>IN-2019-108966</td>\n",
       "      <td>SO-20335</td>\n",
       "      <td>11-10-2019</td>\n",
       "      <td>11-10-2019</td>\n",
       "      <td>1</td>\n",
       "      <td>Phone</td>\n",
       "      <td>i-Phone 14 Pro Max</td>\n",
       "      <td>129999</td>\n",
       "      <td>110499.15</td>\n",
       "      <td>2599.98</td>\n",
       "      <td>...</td>\n",
       "      <td>3</td>\n",
       "      <td>Mobile</td>\n",
       "      <td>5</td>\n",
       "      <td>Single</td>\n",
       "      <td>3</td>\n",
       "      <td>0</td>\n",
       "      <td>11.0</td>\n",
       "      <td>1.0</td>\n",
       "      <td>1.0</td>\n",
       "      <td>130</td>\n",
       "    </tr>\n",
       "  </tbody>\n",
       "</table>\n",
       "<p>5 rows × 25 columns</p>\n",
       "</div>"
      ],
      "text/plain": [
       "          OrderID CustomerID Date of order Date of Signup  Churn  \\\n",
       "0  IN-2020-152156   CG-12520    09-11-2020     08-11-2020      1   \n",
       "1  IN-2020-152156   CG-12520    09-11-2020     08-11-2020      1   \n",
       "2  IN-2020-138688   DV-13045    13-06-2020     12-06-2020      1   \n",
       "3  IN-2019-108966   SO-20335    11-10-2019     11-10-2019      1   \n",
       "4  IN-2019-108966   SO-20335    11-10-2019     11-10-2019      1   \n",
       "\n",
       "  PreferredLoginDevice   Purchased Product  Product Price  Cost Price  \\\n",
       "0         Mobile Phone          i-Phone 13          65999    56099.15   \n",
       "1                Phone  i-Phone 14 Pro Max         129999   110499.15   \n",
       "2                Phone  i-Phone 14 Pro Max         129999   110499.15   \n",
       "3                Phone  i-Phone 14 Pro Max         129999   110499.15   \n",
       "4                Phone  i-Phone 14 Pro Max         129999   110499.15   \n",
       "\n",
       "    Profit  ...  NumberOfDeviceRegistered    PreferedOrderCat  \\\n",
       "0  1319.98  ...                         3  Laptop & Accessory   \n",
       "1  2599.98  ...                         4              Mobile   \n",
       "2  2599.98  ...                         4              Mobile   \n",
       "3  2599.98  ...                         4  Laptop & Accessory   \n",
       "4  2599.98  ...                         3              Mobile   \n",
       "\n",
       "  SatisfactionScore MaritalStatus  NumberOfAddress  Complain  \\\n",
       "0                 2        Single                9         1   \n",
       "1                 3        Single                7         1   \n",
       "2                 3        Single                6         1   \n",
       "3                 5        Single                8         0   \n",
       "4                 5        Single                3         0   \n",
       "\n",
       "  OrderAmountHikeFromlastYear  CouponUsed OrderCount  CashbackAmount  \n",
       "0                        11.0         1.0        1.0             160  \n",
       "1                        15.0         0.0        1.0             121  \n",
       "2                        14.0         0.0        1.0             120  \n",
       "3                        23.0         0.0        1.0             134  \n",
       "4                        11.0         1.0        1.0             130  \n",
       "\n",
       "[5 rows x 25 columns]"
      ]
     },
     "execution_count": 7,
     "metadata": {},
     "output_type": "execute_result"
    }
   ],
   "source": [
    "df.head()"
   ]
  },
  {
   "cell_type": "code",
   "execution_count": 8,
   "id": "2ef73db4",
   "metadata": {},
   "outputs": [
    {
     "data": {
      "text/plain": [
       "OrderID                        0\n",
       "CustomerID                     0\n",
       "Date of order                  0\n",
       "Date of Signup                 0\n",
       "Churn                          0\n",
       "PreferredLoginDevice           0\n",
       "Purchased Product              0\n",
       "Product Price                  0\n",
       "Cost Price                     0\n",
       "Profit                         0\n",
       "CityTier                       0\n",
       "WarehouseToHome                0\n",
       "PreferredPaymentMode           0\n",
       "Gender                         0\n",
       "HourSpendOnApp                 0\n",
       "NumberOfDeviceRegistered       0\n",
       "PreferedOrderCat               0\n",
       "SatisfactionScore              0\n",
       "MaritalStatus                  0\n",
       "NumberOfAddress                0\n",
       "Complain                       0\n",
       "OrderAmountHikeFromlastYear    0\n",
       "CouponUsed                     0\n",
       "OrderCount                     0\n",
       "CashbackAmount                 0\n",
       "dtype: int64"
      ]
     },
     "execution_count": 8,
     "metadata": {},
     "output_type": "execute_result"
    }
   ],
   "source": [
    "df.isnull().sum()"
   ]
  },
  {
   "cell_type": "code",
   "execution_count": 9,
   "id": "e96c37aa",
   "metadata": {},
   "outputs": [
    {
     "data": {
      "text/plain": [
       "0    4682\n",
       "1     948\n",
       "Name: Churn, dtype: int64"
      ]
     },
     "execution_count": 9,
     "metadata": {},
     "output_type": "execute_result"
    }
   ],
   "source": [
    "df[\"Churn\"].value_counts()"
   ]
  },
  {
   "cell_type": "code",
   "execution_count": 10,
   "id": "1185ab5d",
   "metadata": {},
   "outputs": [
    {
     "data": {
      "text/plain": [
       "array(['Mobile Phone', 'Phone', 'Computer'], dtype=object)"
      ]
     },
     "execution_count": 10,
     "metadata": {},
     "output_type": "execute_result"
    }
   ],
   "source": [
    "df['PreferredLoginDevice'].unique()"
   ]
  },
  {
   "cell_type": "code",
   "execution_count": 11,
   "id": "2f385a4c",
   "metadata": {},
   "outputs": [],
   "source": [
    "df['PreferredLoginDevice']= df['PreferredLoginDevice'].str.replace('Mobile Phone','Phone')\n",
    "df['PreferredLoginDevice']= df['PreferredLoginDevice'].str.replace('Phone','Mobile Phone')\n",
    "df['PreferredLoginDevice']= df['PreferredLoginDevice'].str.replace('Computer','Computer')"
   ]
  },
  {
   "cell_type": "code",
   "execution_count": 12,
   "id": "d90684cd",
   "metadata": {},
   "outputs": [
    {
     "data": {
      "text/plain": [
       "Mobile Phone    3996\n",
       "Computer        1634\n",
       "Name: PreferredLoginDevice, dtype: int64"
      ]
     },
     "execution_count": 12,
     "metadata": {},
     "output_type": "execute_result"
    }
   ],
   "source": [
    "df['PreferredLoginDevice'].value_counts()"
   ]
  },
  {
   "cell_type": "code",
   "execution_count": 13,
   "id": "a13c5216",
   "metadata": {},
   "outputs": [
    {
     "data": {
      "text/plain": [
       "array(['Laptop & Accessory', 'Mobile', 'Mobile Phone', 'Others',\n",
       "       'Fashion', 'Grocery'], dtype=object)"
      ]
     },
     "execution_count": 13,
     "metadata": {},
     "output_type": "execute_result"
    }
   ],
   "source": [
    "df['PreferedOrderCat'].unique()"
   ]
  },
  {
   "cell_type": "code",
   "execution_count": 22,
   "id": "a0bccc96",
   "metadata": {},
   "outputs": [
    {
     "data": {
      "text/plain": [
       "Laptop & Accessory    2050\n",
       "Mobile Phone Phone    1271\n",
       "Fashion                826\n",
       "Mobile Phone           809\n",
       "Grocery                410\n",
       "Others                 264\n",
       "Name: PreferedOrderCat, dtype: int64"
      ]
     },
     "execution_count": 22,
     "metadata": {},
     "output_type": "execute_result"
    }
   ],
   "source": [
    "df['PreferedOrderCat'].value_counts()"
   ]
  },
  {
   "cell_type": "code",
   "execution_count": 23,
   "id": "d19a8c82",
   "metadata": {},
   "outputs": [],
   "source": [
    "df['PreferedOrderCat']= df['PreferedOrderCat'].str.replace('Mobile Phone Phone','Mobile Phone')\n",
    "df['PreferedOrderCat']= df['PreferedOrderCat'].str.replace('Mobile Phone','Mobile Phone')"
   ]
  },
  {
   "cell_type": "code",
   "execution_count": 24,
   "id": "a6d7204d",
   "metadata": {},
   "outputs": [
    {
     "data": {
      "text/plain": [
       "Mobile Phone          2080\n",
       "Laptop & Accessory    2050\n",
       "Fashion                826\n",
       "Grocery                410\n",
       "Others                 264\n",
       "Name: PreferedOrderCat, dtype: int64"
      ]
     },
     "execution_count": 24,
     "metadata": {},
     "output_type": "execute_result"
    }
   ],
   "source": [
    "df['PreferedOrderCat'].value_counts()"
   ]
  },
  {
   "cell_type": "code",
   "execution_count": 55,
   "id": "1d5c26ba",
   "metadata": {},
   "outputs": [
    {
     "data": {
      "text/plain": [
       "array(['Debit Card', 'UPI', 'Credit Card', 'Cash on Delivery', 'E wallet'],\n",
       "      dtype=object)"
      ]
     },
     "execution_count": 55,
     "metadata": {},
     "output_type": "execute_result"
    }
   ],
   "source": [
    "df['PreferredPaymentMode'].unique()"
   ]
  },
  {
   "cell_type": "code",
   "execution_count": 26,
   "id": "2162c93c",
   "metadata": {},
   "outputs": [],
   "source": [
    "df['PreferredPaymentMode']= df['PreferredPaymentMode'].str.replace('Debit Card','Debit Card')\n",
    "df['PreferredPaymentMode']= df['PreferredPaymentMode'].str.replace('UPI','UPI')\n",
    "df['PreferredPaymentMode']= df['PreferredPaymentMode'].str.replace('CC','Credit Card')\n",
    "df['PreferredPaymentMode']= df['PreferredPaymentMode'].str.replace('Cash on Delivery','Cash on Delivery')\n",
    "df['PreferredPaymentMode']= df['PreferredPaymentMode'].str.replace('E wallet','E wallet')\n",
    "df['PreferredPaymentMode']= df['PreferredPaymentMode'].str.replace('COD','Cash on Delivery')\n",
    "df['PreferredPaymentMode']= df['PreferredPaymentMode'].str.replace('Credit Card','Credit Card')"
   ]
  },
  {
   "cell_type": "code",
   "execution_count": 27,
   "id": "28936158",
   "metadata": {},
   "outputs": [
    {
     "data": {
      "text/plain": [
       "Debit Card          2314\n",
       "Credit Card         1774\n",
       "E wallet             614\n",
       "Cash on Delivery     514\n",
       "UPI                  414\n",
       "Name: PreferredPaymentMode, dtype: int64"
      ]
     },
     "execution_count": 27,
     "metadata": {},
     "output_type": "execute_result"
    }
   ],
   "source": [
    "df['PreferredPaymentMode'].value_counts()"
   ]
  },
  {
   "cell_type": "markdown",
   "id": "f2e10e93",
   "metadata": {},
   "source": [
    "### Exploratory Data Analysis"
   ]
  },
  {
   "cell_type": "code",
   "execution_count": 29,
   "id": "98710a29",
   "metadata": {},
   "outputs": [
    {
     "data": {
      "image/png": "[encoded data removed]",
      "text/plain": [
       "<Figure size 1080x864 with 13 Axes>"
      ]
     },
     "metadata": {
      "needs_background": "light"
     },
     "output_type": "display_data"
    }
   ],
   "source": [
    "dataset2 = df[['Product Price','Cost Price','Profit','CityTier','WarehouseToHome','HourSpendOnApp','NumberOfDeviceRegistered',\n",
    "                    'SatisfactionScore','NumberOfAddress','Complain','CouponUsed','OrderCount',\n",
    "                    'CashbackAmount']]\n",
    "\n",
    "#Histogram:\n",
    "    \n",
    "fig = plt.figure(figsize=(15, 12))\n",
    "plt.suptitle('Histograms of Numerical Columns\\n',horizontalalignment=\"center\",fontstyle = \"normal\", fontsize = 24, fontfamily = \"sans-serif\")\n",
    "for i in range(dataset2.shape[1]):\n",
    "    plt.subplot(6, 3, i + 1)\n",
    "    f = plt.gca()\n",
    "    f.set_title(dataset2.columns.values[i])\n",
    "\n",
    "    vals = np.size(dataset2.iloc[:, i].unique())\n",
    "    if vals >= 100:\n",
    "        vals = 100\n",
    "    \n",
    "    plt.hist(dataset2.iloc[:, i], bins=vals, color = '#ec838a')\n",
    "plt.tight_layout(rect=[0, 0.03, 1, 0.95])"
   ]
  },
  {
   "cell_type": "markdown",
   "id": "a0d69ceb",
   "metadata": {},
   "source": [
    "### Analyze distribution of Key Categorical Variables"
   ]
  },
  {
   "cell_type": "code",
   "execution_count": 30,
   "id": "a966a948",
   "metadata": {},
   "outputs": [
    {
     "data": {
      "image/png": "[encoded data removed]",
      "text/plain": [
       "<Figure size 864x504 with 1 Axes>"
      ]
     },
     "metadata": {
      "needs_background": "light"
     },
     "output_type": "display_data"
    }
   ],
   "source": [
    "contract_split = df[[ \"CustomerID\", \"PreferedOrderCat\"]]\n",
    "sectors = contract_split .groupby (\"PreferedOrderCat\")\n",
    "contract_split = pd.DataFrame(sectors[\"CustomerID\"].count())\n",
    "contract_split.rename(columns={'CustomerID':'No. of customers'}, inplace=True)\n",
    "\n",
    "\n",
    "ax =  contract_split[[\"No. of customers\"]].plot.bar(title = 'Customers by Ordered Category', legend =True, table = False, grid = False,  subplots = False,  figsize =(12, 7), color ='#ec838a', fontsize = 15, stacked=False)\n",
    "\n",
    "plt.ylabel('No. of Customers\\n',horizontalalignment=\"center\",fontstyle = \"normal\", fontsize = \"large\", fontfamily = \"sans-serif\")\n",
    "plt.xlabel('\\n Ordered Category',horizontalalignment=\"center\",fontstyle = \"normal\", fontsize = \"large\", fontfamily = \"sans-serif\")\n",
    "plt.title('Customers by Ordered Category \\n',horizontalalignment=\"center\", fontstyle = \"normal\", fontsize = \"22\", fontfamily = \"sans-serif\")\n",
    "plt.legend(loc='upper right', fontsize = \"medium\")\n",
    "plt.xticks(rotation=0, horizontalalignment=\"center\")\n",
    "plt.yticks(rotation=0, horizontalalignment=\"right\")\n",
    "\n",
    "x_labels = np.array(contract_split[[\"No. of customers\"]])\n",
    "\n",
    "def add_value_labels(ax, spacing=5):   \n",
    "    for rect in ax.patches:      \n",
    "        y_value = rect.get_height()\n",
    "        x_value = rect.get_x() + rect.get_width() / 2       \n",
    "        space = spacing        \n",
    "        va = 'bottom'      \n",
    "        if y_value < 0:           \n",
    "            space *= -1            \n",
    "            va = 'top'       \n",
    "        label = \"{:.0f}\".format(y_value)      \n",
    "        ax.annotate(\n",
    "            label,                      \n",
    "            (x_value, y_value),         \n",
    "            xytext=(0, space),          \n",
    "            textcoords=\"offset points\", \n",
    "            ha='center',                \n",
    "            va=va)                                                             \n",
    "add_value_labels(ax)\n"
   ]
  },
  {
   "cell_type": "markdown",
   "id": "69ca0b92",
   "metadata": {},
   "source": [
    "### Distribution of Payment Method Type"
   ]
  },
  {
   "cell_type": "code",
   "execution_count": 31,
   "id": "517711bc",
   "metadata": {},
   "outputs": [
    {
     "data": {
      "image/png": "[encoded data removed]",
      "text/plain": [
       "<Figure size 1080x720 with 1 Axes>"
      ]
     },
     "metadata": {
      "needs_background": "light"
     },
     "output_type": "display_data"
    }
   ],
   "source": [
    "payment_method_split = df[[ \"CustomerID\", \"PreferredPaymentMode\"]]\n",
    "sectors = payment_method_split  .groupby (\"PreferredPaymentMode\")\n",
    "payment_method_split  = pd.DataFrame(sectors[\"CustomerID\"].count())\n",
    "payment_method_split.rename(columns={'CustomerID':'No. of customers'}, inplace=True)\n",
    "\n",
    "\n",
    "ax =  payment_method_split [[\"No. of customers\"]].plot.bar(title = 'Customers by Payment Method', legend =True, table = False, grid = False,  subplots = False,  figsize =(15, 10), color ='#ec838a', fontsize = 15, stacked=False)\n",
    "\n",
    "plt.ylabel('No. of Customers\\n',horizontalalignment=\"center\",fontstyle = \"normal\", fontsize = \"large\", fontfamily = \"sans-serif\")\n",
    "plt.xlabel('\\n Contract Type',horizontalalignment=\"center\",fontstyle = \"normal\", fontsize = \"large\", fontfamily = \"sans-serif\")\n",
    "plt.title('Customers by Payment Method \\n',horizontalalignment=\"center\", fontstyle = \"normal\", fontsize = \"22\", fontfamily = \"sans-serif\")\n",
    "plt.legend(loc='upper right', fontsize = \"medium\")\n",
    "plt.xticks(rotation=0, horizontalalignment=\"center\")\n",
    "plt.yticks(rotation=0, horizontalalignment=\"right\")\n",
    "\n",
    "x_labels = np.array(payment_method_split [[\"No. of customers\"]])\n",
    "\n",
    "def add_value_labels(ax, spacing=5):   \n",
    "    for rect in ax.patches:      \n",
    "        y_value = rect.get_height()\n",
    "        x_value = rect.get_x() + rect.get_width() / 2       \n",
    "        space = spacing        \n",
    "        va = 'bottom'      \n",
    "        if y_value < 0:           \n",
    "            space *= -1            \n",
    "            va = 'top'       \n",
    "        label = \"{:.0f}\".format(y_value)      \n",
    "        ax.annotate(\n",
    "            label,                      \n",
    "            (x_value, y_value),         \n",
    "            xytext=(0, space),          \n",
    "            textcoords=\"offset points\", \n",
    "            ha='center',                \n",
    "            va=va)                                                             \n",
    "add_value_labels(ax)\n"
   ]
  },
  {
   "cell_type": "markdown",
   "id": "d4b00371",
   "metadata": {},
   "source": [
    "### Analyze the overall churn rate "
   ]
  },
  {
   "cell_type": "code",
   "execution_count": 32,
   "id": "5c56f0fb",
   "metadata": {},
   "outputs": [
    {
     "data": {
      "image/png": "[encoded data removed]",
      "text/plain": [
       "<Figure size 1080x576 with 1 Axes>"
      ]
     },
     "metadata": {
      "needs_background": "light"
     },
     "output_type": "display_data"
    }
   ],
   "source": [
    "plt.figure(figsize=(15,8))\n",
    "sns.histplot(x='Churn', data=df,kde=True)\n",
    "plt.show()"
   ]
  },
  {
   "cell_type": "markdown",
   "id": "614ca9ce",
   "metadata": {},
   "source": [
    "### Churn Rate by Category Type"
   ]
  },
  {
   "cell_type": "code",
   "execution_count": 33,
   "id": "5d75834b",
   "metadata": {},
   "outputs": [
    {
     "data": {
      "image/png": "[encoded data removed]",
      "text/plain": [
       "<Figure size 864x504 with 1 Axes>"
      ]
     },
     "metadata": {
      "needs_background": "light"
     },
     "output_type": "display_data"
    }
   ],
   "source": [
    "import matplotlib.ticker as mtick\n",
    "\n",
    "contract_churn = df.groupby(['PreferedOrderCat','Churn']).size().unstack()\n",
    "\n",
    "contract_churn.rename(columns={0:'No', 1:'Yes'}, inplace=True)\n",
    "\n",
    "colors  = ['#ec838a','#9b9c9a']\n",
    "\n",
    "ax = (contract_churn.T*100.0 / contract_churn.T.sum()).T.plot(kind='bar',\n",
    "                                                                width = 0.3,\n",
    "                                                                stacked = True,\n",
    "                                                                rot = 0, \n",
    "                                                                figsize = (12,7),\n",
    "                                                                color = colors)\n",
    "\n",
    "\n",
    "\n",
    "\n",
    "\n",
    "plt.ylabel('Proportion of Customers\\n',horizontalalignment=\"center\",fontstyle = \"normal\", fontsize = \"large\", fontfamily = \"sans-serif\")\n",
    "plt.xlabel('Category Type\\n',horizontalalignment=\"center\",fontstyle = \"normal\", fontsize = \"large\", fontfamily = \"sans-serif\")\n",
    "plt.title('Churn Rate by Category type \\n',horizontalalignment=\"center\", fontstyle = \"normal\", fontsize = \"22\", fontfamily = \"sans-serif\")\n",
    "plt.legend(loc='upper right', fontsize = \"medium\")\n",
    "plt.xticks(rotation=0, horizontalalignment=\"center\")\n",
    "plt.yticks(rotation=0, horizontalalignment=\"right\")\n",
    "ax.yaxis.set_major_formatter(mtick.PercentFormatter())\n",
    "for p in ax.patches:\n",
    "    width, height = p.get_width(), p.get_height()\n",
    "    x, y = p.get_xy() \n",
    "    ax.text(x+width/2, \n",
    "            y+height/2, \n",
    "            '{:.1f}%'.format(height), \n",
    "            horizontalalignment='center', \n",
    "            verticalalignment='center')\n",
    "ax.autoscale(enable=False, axis='both', tight=False)   "
   ]
  },
  {
   "cell_type": "markdown",
   "id": "d96c41ff",
   "metadata": {},
   "source": [
    "### Churn Rate by Payment Method"
   ]
  },
  {
   "cell_type": "code",
   "execution_count": 34,
   "id": "20ebb274",
   "metadata": {},
   "outputs": [
    {
     "data": {
      "image/png": "[encoded data removed]",
      "text/plain": [
       "<Figure size 1584x1440 with 1 Axes>"
      ]
     },
     "metadata": {
      "needs_background": "light"
     },
     "output_type": "display_data"
    }
   ],
   "source": [
    "import matplotlib.ticker as mtick\n",
    "\n",
    "contract_churn = df.groupby(['PreferedOrderCat','PreferredPaymentMode']).size().unstack()\n",
    "\n",
    "contract_churn.rename(columns={0:'No', 1:'Yes'}, inplace=True)\n",
    "\n",
    "colors  = ['#FF4040','#9b9c9a', '#f3babc' , '#FF9912', '#00FFFF','#E3CF57','#8A2BE2']\n",
    "\n",
    "ax = (contract_churn.T*100.0 / contract_churn.T.sum()).T.plot(kind='bar',\n",
    "                                                                width = 0.3,\n",
    "                                                                stacked = True,\n",
    "                                                                rot = 0, \n",
    "                                                                figsize = (22,20),\n",
    "                                                                color = colors)\n",
    "\n",
    "\n",
    "\n",
    "\n",
    "\n",
    "plt.ylabel('Proportion of Customers\\n',horizontalalignment=\"center\",fontstyle = \"normal\", fontsize = \"15\", fontfamily = \"sans-serif\")\n",
    "plt.xlabel('Category Type\\n',horizontalalignment=\"center\",fontstyle = \"normal\", fontsize = \"17\", fontfamily = \"sans-serif\")\n",
    "plt.title('Churn Rate by Payment Method \\n',horizontalalignment=\"center\", fontstyle = \"normal\", fontsize = \"22\", fontfamily = \"sans-serif\")\n",
    "plt.legend(loc='best', fontsize = \"medium\")\n",
    "plt.xticks(rotation=0, horizontalalignment=\"center\")\n",
    "plt.yticks(rotation=0, horizontalalignment=\"right\")\n",
    "ax.yaxis.set_major_formatter(mtick.PercentFormatter())\n",
    "for p in ax.patches:\n",
    "    width, height = p.get_width(), p.get_height()\n",
    "    x, y = p.get_xy() \n",
    "    ax.text(x+width/2, \n",
    "            y+height/2, \n",
    "            '{:.1f}%'.format(height), \n",
    "            horizontalalignment='center', \n",
    "            verticalalignment='center')\n",
    "ax.autoscale(enable=False, axis='both', tight=False)"
   ]
  },
  {
   "cell_type": "markdown",
   "id": "1bbc334b",
   "metadata": {},
   "source": [
    "### Finding positive and negative correlations"
   ]
  },
  {
   "cell_type": "code",
   "execution_count": 35,
   "id": "9724cb6a",
   "metadata": {},
   "outputs": [
    {
     "name": "stdout",
     "output_type": "stream",
     "text": [
      "Most Positive Correlations: \n",
      " Complain                    0.250188\n",
      "NumberOfDeviceRegistered    0.107939\n",
      "SatisfactionScore           0.105481\n",
      "CityTier                    0.084703\n",
      "WarehouseToHome             0.056958\n",
      "NumberOfAddress             0.043931\n",
      "Product Price               0.019009\n",
      "HourSpendOnApp              0.018816\n",
      "Profit                      0.018153\n",
      "Cost Price                  0.017919\n",
      "dtype: float64\n",
      "\n",
      "Most Negative Correlations: \n",
      " CouponUsed                    -0.001430\n",
      "OrderAmountHikeFromlastYear   -0.003014\n",
      "OrderCount                    -0.024038\n",
      "CashbackAmount                -0.154161\n",
      "dtype: float64\n"
     ]
    }
   ],
   "source": [
    "dataset2 = df[['Product Price', 'Cost Price', 'Profit',\n",
    "       'CityTier', 'WarehouseToHome', 'HourSpendOnApp',\n",
    "        'NumberOfDeviceRegistered', 'SatisfactionScore','NumberOfAddress','Complain','OrderAmountHikeFromlastYear',\n",
    "        'CouponUsed','OrderCount','CashbackAmount']]\n",
    "correlations = dataset2.corrwith(df.Churn)\n",
    "correlations = correlations[correlations!=1]\n",
    "positive_correlations = correlations[\n",
    "correlations >0].sort_values(ascending = False)\n",
    "negative_correlations =correlations[\n",
    "correlations<0].sort_values(ascending = False)\n",
    "print('Most Positive Correlations: \\n', positive_correlations)\n",
    "print('\\nMost Negative Correlations: \\n', negative_correlations)"
   ]
  },
  {
   "cell_type": "code",
   "execution_count": 36,
   "id": "6075650b",
   "metadata": {},
   "outputs": [
    {
     "data": {
      "text/plain": [
       "Text(0.5, 1.0, 'Correlation with Churn Rate \\n')"
      ]
     },
     "execution_count": 36,
     "metadata": {},
     "output_type": "execute_result"
    },
    {
     "data": {
      "image/png": "[encoded data removed]",
      "text/plain": [
       "<Figure size 1296x720 with 1 Axes>"
      ]
     },
     "metadata": {
      "needs_background": "light"
     },
     "output_type": "display_data"
    }
   ],
   "source": [
    "correlations = dataset2.corrwith(df.Churn)\n",
    "correlations = correlations[correlations!=1]\n",
    "correlations.plot.bar(\n",
    "        figsize = (18, 10), \n",
    "        fontsize = 15, \n",
    "        color = '#7AC5CD',\n",
    "        rot = 45, grid = True)\n",
    "plt.title('Correlation with Churn Rate \\n',\n",
    "horizontalalignment=\"center\", fontstyle = \"normal\", \n",
    "fontsize = \"22\", fontfamily = \"sans-serif\")"
   ]
  },
  {
   "cell_type": "markdown",
   "id": "ff45a2c7",
   "metadata": {},
   "source": [
    "### Plotting Correlation Matrix of all independent variables"
   ]
  },
  {
   "cell_type": "code",
   "execution_count": 37,
   "id": "d8b67e0c",
   "metadata": {},
   "outputs": [
    {
     "name": "stderr",
     "output_type": "stream",
     "text": [
      "C:\\Users\\HP\\AppData\\Local\\Temp/ipykernel_3536/2346922627.py:6: DeprecationWarning: `np.bool` is a deprecated alias for the builtin `bool`. To silence this warning, use `bool` by itself. Doing this will not modify any behavior and is safe. If you specifically wanted the numpy scalar type, use `np.bool_` here.\n",
      "Deprecated in NumPy 1.20; for more details and guidance: https://numpy.org/devdocs/release/1.20.0-notes.html#deprecations\n",
      "  mask = np.zeros_like(corr, dtype=np.bool)\n"
     ]
    },
    {
     "data": {
      "text/plain": [
       "<AxesSubplot:>"
      ]
     },
     "execution_count": 37,
     "metadata": {},
     "output_type": "execute_result"
    },
    {
     "data": {
      "image/png": "[encoded data removed]",
      "text/plain": [
       "<Figure size 1296x1080 with 2 Axes>"
      ]
     },
     "metadata": {},
     "output_type": "display_data"
    }
   ],
   "source": [
    "## Set and compute the Correlation Matrix\n",
    "sns.set(style=\"white\")\n",
    "corr = dataset2.corr()\n",
    "\n",
    "# Generate a mask for the upper triangle\n",
    "mask = np.zeros_like(corr, dtype=np.bool)\n",
    "mask[np.triu_indices_from(mask)] = True\n",
    "\n",
    "# Set up the matplotlib figure and a diverging colormap\n",
    "f, ax = plt.subplots(figsize=(18, 15))\n",
    "cmap = sns.diverging_palette(220, 10, as_cmap=True)\n",
    "\n",
    "# Draw the heatmap with the mask and correct aspect ratio\n",
    "sns.heatmap(corr, mask=mask, cmap=cmap, vmax=.3, center=0,\n",
    "            square=True, linewidths=.5, cbar_kws={\"shrink\": .5})\n"
   ]
  },
  {
   "cell_type": "code",
   "execution_count": 38,
   "id": "2556dd04",
   "metadata": {},
   "outputs": [],
   "source": [
    "### Saving the file"
   ]
  },
  {
   "cell_type": "code",
   "execution_count": 39,
   "id": "0ee5c6e7",
   "metadata": {},
   "outputs": [],
   "source": [
    "df.to_excel('updated rrd.xlsx')"
   ]
  },
  {
   "cell_type": "markdown",
   "id": "ed8036fd",
   "metadata": {},
   "source": [
    "### Label Encoding"
   ]
  },
  {
   "cell_type": "code",
   "execution_count": 40,
   "id": "3cd8f6c5",
   "metadata": {},
   "outputs": [],
   "source": [
    "identity = df[\"CustomerID\"]\n",
    "\n",
    "dataset = df.drop(\"CustomerID\", axis=1)\n",
    "\n",
    "# convert rest of categorical variable into dummy\n",
    "\n",
    "dataset= pd.get_dummies(dataset)\n",
    "\n",
    "#Rejoin userid to dataset (column concatenation)\n",
    "\n",
    "dataset = pd.concat([dataset, identity], axis = 1)"
   ]
  },
  {
   "cell_type": "markdown",
   "id": "cc84a1ea",
   "metadata": {},
   "source": [
    "### Splitting the dataset into dependent and independent variables"
   ]
  },
  {
   "cell_type": "code",
   "execution_count": 41,
   "id": "7d3edfff",
   "metadata": {},
   "outputs": [],
   "source": [
    "response = dataset[\"Churn\"]\n",
    "dataset = dataset.drop(columns=\"Churn\")"
   ]
  },
  {
   "cell_type": "markdown",
   "id": "56ad5a2b",
   "metadata": {},
   "source": [
    "### Generating training and test datasets"
   ]
  },
  {
   "cell_type": "code",
   "execution_count": 42,
   "id": "c38db46c",
   "metadata": {},
   "outputs": [],
   "source": [
    "from sklearn.model_selection import train_test_split\n",
    "X_train, X_test, y_train, y_test = train_test_split(dataset, response,\n",
    "                                                    stratify=response, \n",
    "                                                    test_size = 0.2,random_state = 0)"
   ]
  },
  {
   "cell_type": "code",
   "execution_count": 43,
   "id": "9e47c5dc",
   "metadata": {},
   "outputs": [
    {
     "name": "stdout",
     "output_type": "stream",
     "text": [
      "Number transactions X_train dataset:  (4504, 4981)\n",
      "Number transactions y_train dataset:  (4504,)\n",
      "Number transactions X_test dataset:  (1126, 4981)\n",
      "Number transactions y_test dataset:  (1126,)\n"
     ]
    }
   ],
   "source": [
    "print(\"Number transactions X_train dataset: \", X_train.shape)\n",
    "print(\"Number transactions y_train dataset: \", y_train.shape)\n",
    "print(\"Number transactions X_test dataset: \", X_test.shape)\n",
    "print(\"Number transactions y_test dataset: \", y_test.shape)"
   ]
  },
  {
   "cell_type": "markdown",
   "id": "503e819d",
   "metadata": {},
   "source": [
    "### Removing Identifiers"
   ]
  },
  {
   "cell_type": "code",
   "execution_count": 44,
   "id": "ddd56dd4",
   "metadata": {},
   "outputs": [],
   "source": [
    "train_identity = X_train[\"CustomerID\"]\n",
    "X_train = X_train.drop(columns = [\"CustomerID\"])\n",
    "\n",
    "test_identity = X_test[\"CustomerID\"]\n",
    "X_test = X_test.drop(columns = [\"CustomerID\"])"
   ]
  },
  {
   "cell_type": "markdown",
   "id": "52c96bc9",
   "metadata": {},
   "source": [
    "### Feature Scaling"
   ]
  },
  {
   "cell_type": "code",
   "execution_count": 45,
   "id": "f5223d7c",
   "metadata": {
    "scrolled": true
   },
   "outputs": [
    {
     "data": {
      "text/html": [
       "<div>\n",
       "<style scoped>\n",
       "    .dataframe tbody tr th:only-of-type {\n",
       "        vertical-align: middle;\n",
       "    }\n",
       "\n",
       "    .dataframe tbody tr th {\n",
       "        vertical-align: top;\n",
       "    }\n",
       "\n",
       "    .dataframe thead th {\n",
       "        text-align: right;\n",
       "    }\n",
       "</style>\n",
       "<table border=\"1\" class=\"dataframe\">\n",
       "  <thead>\n",
       "    <tr style=\"text-align: right;\">\n",
       "      <th></th>\n",
       "      <th>Product Price</th>\n",
       "      <th>Cost Price</th>\n",
       "      <th>Profit</th>\n",
       "      <th>CityTier</th>\n",
       "      <th>WarehouseToHome</th>\n",
       "      <th>HourSpendOnApp</th>\n",
       "      <th>NumberOfDeviceRegistered</th>\n",
       "      <th>SatisfactionScore</th>\n",
       "      <th>NumberOfAddress</th>\n",
       "      <th>Complain</th>\n",
       "      <th>...</th>\n",
       "      <th>Gender_Female</th>\n",
       "      <th>Gender_Male</th>\n",
       "      <th>PreferedOrderCat_Fashion</th>\n",
       "      <th>PreferedOrderCat_Grocery</th>\n",
       "      <th>PreferedOrderCat_Laptop &amp; Accessory</th>\n",
       "      <th>PreferedOrderCat_Mobile Phone</th>\n",
       "      <th>PreferedOrderCat_Others</th>\n",
       "      <th>MaritalStatus_Divorced</th>\n",
       "      <th>MaritalStatus_Married</th>\n",
       "      <th>MaritalStatus_Single</th>\n",
       "    </tr>\n",
       "  </thead>\n",
       "  <tbody>\n",
       "    <tr>\n",
       "      <th>1915</th>\n",
       "      <td>1.374987</td>\n",
       "      <td>1.383055</td>\n",
       "      <td>-0.891444</td>\n",
       "      <td>-0.718588</td>\n",
       "      <td>1.150766</td>\n",
       "      <td>-1.323938</td>\n",
       "      <td>-0.662196</td>\n",
       "      <td>-1.494556</td>\n",
       "      <td>-1.230217</td>\n",
       "      <td>-0.629066</td>\n",
       "      <td>...</td>\n",
       "      <td>-0.814760</td>\n",
       "      <td>0.814760</td>\n",
       "      <td>-0.412890</td>\n",
       "      <td>-0.279796</td>\n",
       "      <td>-0.755632</td>\n",
       "      <td>1.303932</td>\n",
       "      <td>-0.22444</td>\n",
       "      <td>-0.412890</td>\n",
       "      <td>0.934636</td>\n",
       "      <td>-0.686946</td>\n",
       "    </tr>\n",
       "    <tr>\n",
       "      <th>4881</th>\n",
       "      <td>0.842952</td>\n",
       "      <td>0.852670</td>\n",
       "      <td>0.911037</td>\n",
       "      <td>-0.718588</td>\n",
       "      <td>1.866756</td>\n",
       "      <td>1.525091</td>\n",
       "      <td>0.307733</td>\n",
       "      <td>-0.041457</td>\n",
       "      <td>0.323161</td>\n",
       "      <td>1.589659</td>\n",
       "      <td>...</td>\n",
       "      <td>-0.814760</td>\n",
       "      <td>0.814760</td>\n",
       "      <td>-0.412890</td>\n",
       "      <td>3.574031</td>\n",
       "      <td>-0.755632</td>\n",
       "      <td>-0.766911</td>\n",
       "      <td>-0.22444</td>\n",
       "      <td>-0.412890</td>\n",
       "      <td>0.934636</td>\n",
       "      <td>-0.686946</td>\n",
       "    </tr>\n",
       "    <tr>\n",
       "      <th>5406</th>\n",
       "      <td>0.564399</td>\n",
       "      <td>0.574982</td>\n",
       "      <td>0.646663</td>\n",
       "      <td>0.373355</td>\n",
       "      <td>-0.042550</td>\n",
       "      <td>1.525091</td>\n",
       "      <td>1.277661</td>\n",
       "      <td>-1.494556</td>\n",
       "      <td>1.488194</td>\n",
       "      <td>-0.629066</td>\n",
       "      <td>...</td>\n",
       "      <td>1.227355</td>\n",
       "      <td>-1.227355</td>\n",
       "      <td>-0.412890</td>\n",
       "      <td>-0.279796</td>\n",
       "      <td>-0.755632</td>\n",
       "      <td>1.303932</td>\n",
       "      <td>-0.22444</td>\n",
       "      <td>-0.412890</td>\n",
       "      <td>0.934636</td>\n",
       "      <td>-0.686946</td>\n",
       "    </tr>\n",
       "    <tr>\n",
       "      <th>752</th>\n",
       "      <td>0.063004</td>\n",
       "      <td>0.075143</td>\n",
       "      <td>0.170789</td>\n",
       "      <td>-0.718588</td>\n",
       "      <td>-0.877872</td>\n",
       "      <td>-1.323938</td>\n",
       "      <td>-0.662196</td>\n",
       "      <td>-0.768007</td>\n",
       "      <td>-0.453528</td>\n",
       "      <td>-0.629066</td>\n",
       "      <td>...</td>\n",
       "      <td>-0.814760</td>\n",
       "      <td>0.814760</td>\n",
       "      <td>-0.412890</td>\n",
       "      <td>-0.279796</td>\n",
       "      <td>1.323395</td>\n",
       "      <td>-0.766911</td>\n",
       "      <td>-0.22444</td>\n",
       "      <td>-0.412890</td>\n",
       "      <td>0.934636</td>\n",
       "      <td>-0.686946</td>\n",
       "    </tr>\n",
       "    <tr>\n",
       "      <th>5338</th>\n",
       "      <td>0.842952</td>\n",
       "      <td>0.852670</td>\n",
       "      <td>0.911037</td>\n",
       "      <td>1.465299</td>\n",
       "      <td>-0.758540</td>\n",
       "      <td>0.100576</td>\n",
       "      <td>0.307733</td>\n",
       "      <td>-0.041457</td>\n",
       "      <td>-0.453528</td>\n",
       "      <td>-0.629066</td>\n",
       "      <td>...</td>\n",
       "      <td>1.227355</td>\n",
       "      <td>-1.227355</td>\n",
       "      <td>-0.412890</td>\n",
       "      <td>-0.279796</td>\n",
       "      <td>-0.755632</td>\n",
       "      <td>1.303932</td>\n",
       "      <td>-0.22444</td>\n",
       "      <td>-0.412890</td>\n",
       "      <td>-1.069935</td>\n",
       "      <td>1.455718</td>\n",
       "    </tr>\n",
       "    <tr>\n",
       "      <th>1824</th>\n",
       "      <td>1.374987</td>\n",
       "      <td>1.383055</td>\n",
       "      <td>-0.891444</td>\n",
       "      <td>-0.718588</td>\n",
       "      <td>-0.281214</td>\n",
       "      <td>0.100576</td>\n",
       "      <td>-0.662196</td>\n",
       "      <td>-0.041457</td>\n",
       "      <td>-0.841873</td>\n",
       "      <td>1.589659</td>\n",
       "      <td>...</td>\n",
       "      <td>1.227355</td>\n",
       "      <td>-1.227355</td>\n",
       "      <td>-0.412890</td>\n",
       "      <td>-0.279796</td>\n",
       "      <td>-0.755632</td>\n",
       "      <td>1.303932</td>\n",
       "      <td>-0.22444</td>\n",
       "      <td>-0.412890</td>\n",
       "      <td>0.934636</td>\n",
       "      <td>-0.686946</td>\n",
       "    </tr>\n",
       "    <tr>\n",
       "      <th>133</th>\n",
       "      <td>1.957162</td>\n",
       "      <td>1.963423</td>\n",
       "      <td>-0.780936</td>\n",
       "      <td>-0.718588</td>\n",
       "      <td>-1.116535</td>\n",
       "      <td>0.100576</td>\n",
       "      <td>-0.662196</td>\n",
       "      <td>-0.768007</td>\n",
       "      <td>-0.841873</td>\n",
       "      <td>-0.629066</td>\n",
       "      <td>...</td>\n",
       "      <td>-0.814760</td>\n",
       "      <td>0.814760</td>\n",
       "      <td>-0.412890</td>\n",
       "      <td>-0.279796</td>\n",
       "      <td>-0.755632</td>\n",
       "      <td>1.303932</td>\n",
       "      <td>-0.22444</td>\n",
       "      <td>2.421952</td>\n",
       "      <td>-1.069935</td>\n",
       "      <td>-0.686946</td>\n",
       "    </tr>\n",
       "    <tr>\n",
       "      <th>4665</th>\n",
       "      <td>-1.385470</td>\n",
       "      <td>-1.368836</td>\n",
       "      <td>-1.203956</td>\n",
       "      <td>-0.718588</td>\n",
       "      <td>-0.281214</td>\n",
       "      <td>1.525091</td>\n",
       "      <td>0.307733</td>\n",
       "      <td>-1.494556</td>\n",
       "      <td>-0.453528</td>\n",
       "      <td>1.589659</td>\n",
       "      <td>...</td>\n",
       "      <td>1.227355</td>\n",
       "      <td>-1.227355</td>\n",
       "      <td>-0.412890</td>\n",
       "      <td>-0.279796</td>\n",
       "      <td>-0.755632</td>\n",
       "      <td>1.303932</td>\n",
       "      <td>-0.22444</td>\n",
       "      <td>-0.412890</td>\n",
       "      <td>0.934636</td>\n",
       "      <td>-0.686946</td>\n",
       "    </tr>\n",
       "    <tr>\n",
       "      <th>2350</th>\n",
       "      <td>-1.051207</td>\n",
       "      <td>-1.035610</td>\n",
       "      <td>-0.886707</td>\n",
       "      <td>0.373355</td>\n",
       "      <td>0.912103</td>\n",
       "      <td>-1.323938</td>\n",
       "      <td>0.307733</td>\n",
       "      <td>1.411642</td>\n",
       "      <td>-0.841873</td>\n",
       "      <td>-0.629066</td>\n",
       "      <td>...</td>\n",
       "      <td>-0.814760</td>\n",
       "      <td>0.814760</td>\n",
       "      <td>2.421952</td>\n",
       "      <td>-0.279796</td>\n",
       "      <td>-0.755632</td>\n",
       "      <td>-0.766911</td>\n",
       "      <td>-0.22444</td>\n",
       "      <td>-0.412890</td>\n",
       "      <td>-1.069935</td>\n",
       "      <td>1.455718</td>\n",
       "    </tr>\n",
       "    <tr>\n",
       "      <th>4944</th>\n",
       "      <td>0.842952</td>\n",
       "      <td>0.852670</td>\n",
       "      <td>0.911037</td>\n",
       "      <td>-0.718588</td>\n",
       "      <td>1.031434</td>\n",
       "      <td>1.525091</td>\n",
       "      <td>1.277661</td>\n",
       "      <td>-0.041457</td>\n",
       "      <td>-0.841873</td>\n",
       "      <td>-0.629066</td>\n",
       "      <td>...</td>\n",
       "      <td>1.227355</td>\n",
       "      <td>-1.227355</td>\n",
       "      <td>2.421952</td>\n",
       "      <td>-0.279796</td>\n",
       "      <td>-0.755632</td>\n",
       "      <td>-0.766911</td>\n",
       "      <td>-0.22444</td>\n",
       "      <td>-0.412890</td>\n",
       "      <td>0.934636</td>\n",
       "      <td>-0.686946</td>\n",
       "    </tr>\n",
       "  </tbody>\n",
       "</table>\n",
       "<p>10 rows × 4980 columns</p>\n",
       "</div>"
      ],
      "text/plain": [
       "      Product Price  Cost Price    Profit  CityTier  WarehouseToHome  \\\n",
       "1915       1.374987    1.383055 -0.891444 -0.718588         1.150766   \n",
       "4881       0.842952    0.852670  0.911037 -0.718588         1.866756   \n",
       "5406       0.564399    0.574982  0.646663  0.373355        -0.042550   \n",
       "752        0.063004    0.075143  0.170789 -0.718588        -0.877872   \n",
       "5338       0.842952    0.852670  0.911037  1.465299        -0.758540   \n",
       "1824       1.374987    1.383055 -0.891444 -0.718588        -0.281214   \n",
       "133        1.957162    1.963423 -0.780936 -0.718588        -1.116535   \n",
       "4665      -1.385470   -1.368836 -1.203956 -0.718588        -0.281214   \n",
       "2350      -1.051207   -1.035610 -0.886707  0.373355         0.912103   \n",
       "4944       0.842952    0.852670  0.911037 -0.718588         1.031434   \n",
       "\n",
       "      HourSpendOnApp  NumberOfDeviceRegistered  SatisfactionScore  \\\n",
       "1915       -1.323938                 -0.662196          -1.494556   \n",
       "4881        1.525091                  0.307733          -0.041457   \n",
       "5406        1.525091                  1.277661          -1.494556   \n",
       "752        -1.323938                 -0.662196          -0.768007   \n",
       "5338        0.100576                  0.307733          -0.041457   \n",
       "1824        0.100576                 -0.662196          -0.041457   \n",
       "133         0.100576                 -0.662196          -0.768007   \n",
       "4665        1.525091                  0.307733          -1.494556   \n",
       "2350       -1.323938                  0.307733           1.411642   \n",
       "4944        1.525091                  1.277661          -0.041457   \n",
       "\n",
       "      NumberOfAddress  Complain  ...  Gender_Female  Gender_Male  \\\n",
       "1915        -1.230217 -0.629066  ...      -0.814760     0.814760   \n",
       "4881         0.323161  1.589659  ...      -0.814760     0.814760   \n",
       "5406         1.488194 -0.629066  ...       1.227355    -1.227355   \n",
       "752         -0.453528 -0.629066  ...      -0.814760     0.814760   \n",
       "5338        -0.453528 -0.629066  ...       1.227355    -1.227355   \n",
       "1824        -0.841873  1.589659  ...       1.227355    -1.227355   \n",
       "133         -0.841873 -0.629066  ...      -0.814760     0.814760   \n",
       "4665        -0.453528  1.589659  ...       1.227355    -1.227355   \n",
       "2350        -0.841873 -0.629066  ...      -0.814760     0.814760   \n",
       "4944        -0.841873 -0.629066  ...       1.227355    -1.227355   \n",
       "\n",
       "      PreferedOrderCat_Fashion  PreferedOrderCat_Grocery  \\\n",
       "1915                 -0.412890                 -0.279796   \n",
       "4881                 -0.412890                  3.574031   \n",
       "5406                 -0.412890                 -0.279796   \n",
       "752                  -0.412890                 -0.279796   \n",
       "5338                 -0.412890                 -0.279796   \n",
       "1824                 -0.412890                 -0.279796   \n",
       "133                  -0.412890                 -0.279796   \n",
       "4665                 -0.412890                 -0.279796   \n",
       "2350                  2.421952                 -0.279796   \n",
       "4944                  2.421952                 -0.279796   \n",
       "\n",
       "      PreferedOrderCat_Laptop & Accessory  PreferedOrderCat_Mobile Phone  \\\n",
       "1915                            -0.755632                       1.303932   \n",
       "4881                            -0.755632                      -0.766911   \n",
       "5406                            -0.755632                       1.303932   \n",
       "752                              1.323395                      -0.766911   \n",
       "5338                            -0.755632                       1.303932   \n",
       "1824                            -0.755632                       1.303932   \n",
       "133                             -0.755632                       1.303932   \n",
       "4665                            -0.755632                       1.303932   \n",
       "2350                            -0.755632                      -0.766911   \n",
       "4944                            -0.755632                      -0.766911   \n",
       "\n",
       "      PreferedOrderCat_Others  MaritalStatus_Divorced  MaritalStatus_Married  \\\n",
       "1915                 -0.22444               -0.412890               0.934636   \n",
       "4881                 -0.22444               -0.412890               0.934636   \n",
       "5406                 -0.22444               -0.412890               0.934636   \n",
       "752                  -0.22444               -0.412890               0.934636   \n",
       "5338                 -0.22444               -0.412890              -1.069935   \n",
       "1824                 -0.22444               -0.412890               0.934636   \n",
       "133                  -0.22444                2.421952              -1.069935   \n",
       "4665                 -0.22444               -0.412890               0.934636   \n",
       "2350                 -0.22444               -0.412890              -1.069935   \n",
       "4944                 -0.22444               -0.412890               0.934636   \n",
       "\n",
       "      MaritalStatus_Single  \n",
       "1915             -0.686946  \n",
       "4881             -0.686946  \n",
       "5406             -0.686946  \n",
       "752              -0.686946  \n",
       "5338              1.455718  \n",
       "1824             -0.686946  \n",
       "133              -0.686946  \n",
       "4665             -0.686946  \n",
       "2350              1.455718  \n",
       "4944             -0.686946  \n",
       "\n",
       "[10 rows x 4980 columns]"
      ]
     },
     "execution_count": 45,
     "metadata": {},
     "output_type": "execute_result"
    }
   ],
   "source": [
    "from sklearn.preprocessing import StandardScaler\n",
    "sc_X = StandardScaler()\n",
    "X_train2 = pd.DataFrame(sc_X.fit_transform(X_train))\n",
    "X_train2.columns = X_train.columns.values\n",
    "X_train2.index = X_train.index.values\n",
    "X_train = X_train2\n",
    "\n",
    "X_test2 = pd.DataFrame(sc_X.transform(X_test))\n",
    "X_test2.columns = X_test.columns.values\n",
    "X_test2.index = X_test.index.values\n",
    "X_test = X_test2\n",
    "X_train[150:160]"
   ]
  },
  {
   "cell_type": "markdown",
   "id": "0d193ce3",
   "metadata": {},
   "source": [
    "### Implementing Machine Learning Models"
   ]
  },
  {
   "cell_type": "markdown",
   "id": "447fece2",
   "metadata": {},
   "source": [
    "### SVM Model"
   ]
  },
  {
   "cell_type": "code",
   "execution_count": 46,
   "id": "3a031c56",
   "metadata": {},
   "outputs": [
    {
     "data": {
      "text/plain": [
       "array([0, 0, 0, ..., 0, 0, 0], dtype=int64)"
      ]
     },
     "execution_count": 46,
     "metadata": {},
     "output_type": "execute_result"
    }
   ],
   "source": [
    "from sklearn import svm\n",
    "\n",
    "svm.SVC(kernel='linear',gamma='auto',C=2,probability=True)\n",
    "\n",
    "clfi=svm.SVC(kernel='linear',gamma='auto',C=2,probability=True)\n",
    "\n",
    "clfi.fit(X_train,y_train)\n",
    "\n",
    "clfi.score(X_train,y_train)\n",
    "\n",
    "y_pred=clfi.predict(X_test)\n",
    "\n",
    "y_pred"
   ]
  },
  {
   "cell_type": "code",
   "execution_count": 47,
   "id": "d53f55ed",
   "metadata": {},
   "outputs": [
    {
     "name": "stdout",
     "output_type": "stream",
     "text": [
      "0.8179396092362344\n"
     ]
    }
   ],
   "source": [
    "from sklearn.metrics import accuracy_score\n",
    "print(accuracy_score(y_test, y_pred))"
   ]
  },
  {
   "cell_type": "code",
   "execution_count": 48,
   "id": "65a5171f",
   "metadata": {},
   "outputs": [
    {
     "name": "stdout",
     "output_type": "stream",
     "text": [
      "[[829 107]\n",
      " [ 98  92]]\n"
     ]
    }
   ],
   "source": [
    "from sklearn.metrics import confusion_matrix\n",
    "print(confusion_matrix(y_test, y_pred))\n"
   ]
  },
  {
   "cell_type": "code",
   "execution_count": 49,
   "id": "d96f1b8d",
   "metadata": {},
   "outputs": [
    {
     "name": "stdout",
     "output_type": "stream",
     "text": [
      "              precision    recall  f1-score   support\n",
      "\n",
      "           0       0.89      0.89      0.89       936\n",
      "           1       0.46      0.48      0.47       190\n",
      "\n",
      "    accuracy                           0.82      1126\n",
      "   macro avg       0.68      0.68      0.68      1126\n",
      "weighted avg       0.82      0.82      0.82      1126\n",
      "\n"
     ]
    }
   ],
   "source": [
    "from sklearn.metrics import classification_report\n",
    "\n",
    "print(classification_report(y_test, y_pred))"
   ]
  },
  {
   "cell_type": "markdown",
   "id": "ccec4ca7",
   "metadata": {},
   "source": [
    "### Naive Bayes"
   ]
  },
  {
   "cell_type": "code",
   "execution_count": 51,
   "id": "d8f889ae",
   "metadata": {},
   "outputs": [
    {
     "data": {
      "text/plain": [
       "array([0, 0, 1, ..., 1, 0, 1], dtype=int64)"
      ]
     },
     "execution_count": 51,
     "metadata": {},
     "output_type": "execute_result"
    }
   ],
   "source": [
    "from sklearn.naive_bayes import GaussianNB\n",
    "clfi=GaussianNB()\n",
    "clfi.fit(X_train, y_train)\n",
    "clfi.score(X_train, y_train)\n",
    "y_pred = clfi.predict(X_test)\n",
    "y_pred"
   ]
  },
  {
   "cell_type": "code",
   "execution_count": 52,
   "id": "9925f805",
   "metadata": {},
   "outputs": [
    {
     "name": "stdout",
     "output_type": "stream",
     "text": [
      "0.5719360568383659\n"
     ]
    }
   ],
   "source": [
    "from sklearn.metrics import accuracy_score\n",
    "print(accuracy_score(y_test, y_pred))"
   ]
  },
  {
   "cell_type": "code",
   "execution_count": 53,
   "id": "b5c3cb4a",
   "metadata": {},
   "outputs": [
    {
     "name": "stdout",
     "output_type": "stream",
     "text": [
      "[[565 371]\n",
      " [111  79]]\n"
     ]
    }
   ],
   "source": [
    "from sklearn.metrics import confusion_matrix\n",
    "print(confusion_matrix(y_test, y_pred))\n"
   ]
  },
  {
   "cell_type": "code",
   "execution_count": 54,
   "id": "03ebe576",
   "metadata": {},
   "outputs": [
    {
     "name": "stdout",
     "output_type": "stream",
     "text": [
      "              precision    recall  f1-score   support\n",
      "\n",
      "           0       0.84      0.60      0.70       936\n",
      "           1       0.18      0.42      0.25       190\n",
      "\n",
      "    accuracy                           0.57      1126\n",
      "   macro avg       0.51      0.51      0.47      1126\n",
      "weighted avg       0.72      0.57      0.62      1126\n",
      "\n"
     ]
    }
   ],
   "source": [
    "from sklearn.metrics import classification_report\n",
    "\n",
    "print(classification_report(y_test, y_pred))"
   ]
  },
  {
   "cell_type": "code",
   "execution_count": null,
   "id": "5f2698f1",
   "metadata": {},
   "outputs": [],
   "source": []
  }
 ],
 "metadata": {
  "kernelspec": {
   "display_name": "Python 3 (ipykernel)",
   "language": "python",
   "name": "python3"
  },
  "language_info": {
   "codemirror_mode": {
    "name": "ipython",
    "version": 3
   },
   "file_extension": ".py",
   "mimetype": "text/x-python",
   "name": "python",
   "nbconvert_exporter": "python",
   "pygments_lexer": "ipython3",
   "version": "3.9.7"
  }
 },
 "nbformat": 4,
 "nbformat_minor": 5
}
